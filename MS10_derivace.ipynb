{
 "cells": [
  {
   "cell_type": "markdown",
   "metadata": {},
   "source": [
    "# Matematický software "
   ]
  },
  {
   "cell_type": "markdown",
   "metadata": {},
   "source": [
    "## Cv. 10 - Numerická derivace"
   ]
  },
  {
   "cell_type": "markdown",
   "metadata": {},
   "source": [
    "### On-site"
   ]
  },
  {
   "cell_type": "markdown",
   "metadata": {},
   "source": [
    "#### 1. Lorem"
   ]
  },
  {
   "cell_type": "code",
   "execution_count": null,
   "metadata": {},
   "outputs": [],
   "source": [
    "#limita a derivace\n",
    "x, y = sympy.symbols('x y')\n",
    "vyraz = x*x - 2*x*y\n",
    "\n",
    "limita_vyrazu = sympy.limit(vyraz, x, 0)\n",
    "print(limita_vyrazu)\n",
    "\n",
    "derivace_vyrazu = sympy.diff(vyraz, x)\n",
    "print(derivace_vyrazu)"
   ]
  },
  {
   "cell_type": "markdown",
   "metadata": {},
   "source": [
    "### Domácí cvičení"
   ]
  }
 ],
 "metadata": {
  "language_info": {
   "name": "python"
  },
  "orig_nbformat": 4
 },
 "nbformat": 4,
 "nbformat_minor": 2
}
